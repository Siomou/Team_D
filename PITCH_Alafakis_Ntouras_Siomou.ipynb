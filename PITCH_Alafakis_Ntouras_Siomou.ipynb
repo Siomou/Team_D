{
 "cells": [
  {
   "cell_type": "markdown",
   "metadata": {},
   "source": [
    "### Σύνοψη "
   ]
  },
  {
   "cell_type": "markdown",
   "metadata": {},
   "source": [
    "<i>Στόχος μας είναι να αποτυπώσουμε τις γεωπολιτικές συμμαχίες στον μουσικό διαγωνισμό της Γιουροβίζιον με τη χρήση στατιστικών δεδομένων από τις ψηφοφορίες επιτροπών αλλά και κοινού από το 1957 έως και το 2018. </i>"
   ]
  },
  {
   "cell_type": "markdown",
   "metadata": {},
   "source": [
    "### Έμπνευση\n",
    "\n",
    "Τα γιουχαΐσματα που ακούγονται συστηματικά κάθε χρόνο όταν ανταλλάσσουν δωδεκάρια Ελλάδα και Κύπρος, ενώ ως τακτική παρατηρείται κατά κόρον και μεταξύ του Σκανδιναβικού μπλοκ, των χωρών της πρώην ΕΣΣΔ και άλλων."
   ]
  },
  {
   "cell_type": "markdown",
   "metadata": {},
   "source": [
    "# Data Project Pitch"
   ]
  },
  {
   "cell_type": "markdown",
   "metadata": {},
   "source": [
    "- <i>https://www.reader.gr/politismos/moysiki/412233_eurovision-2022-oi-megalyteres-symmahies-tis-diorganosis-poies-hores</i>\n",
    "- <i>https://www.slow-journalism.com/infographics/infographic-eurovision-voting-alliances</i>"
   ]
  },
  {
   "cell_type": "markdown",
   "metadata": {},
   "source": [
    "### Περαιτέρω πληροφορίες για το θέμα σας"
   ]
  },
  {
   "cell_type": "markdown",
   "metadata": {},
   "source": [
    "- <b>Τίτλος εργασίας</b>: <i> Η γεωπολιτική της Eurovision</i>\n",
    "<br><br>\n",
    "- <b>Δεδομένα</b>: <i> Το dataset που έχουμε βρει βρίσκεται εδώ https://data.world/rhubarbarosa/eurovisionvotingstats/workspace/file?filename=CountryVotes.csv μόνο που χρειάζεται να έχει εγγραφεί κανείς στον ιστότοπο για να μπορεί να το δει. Αν δε θέλετε να εγγραφείτε, ζητήστε τους κωδικούς μου για να το δείτε μέσω του προφίλ που έφτιαξα. Τα δεδομένα του dataset προέκυψαν από scraping του επίσημου ιστότοπου του θεσμού (http://eurovision.tv/) που έκανε ο δημιουργός του dataset με τη χρήση R script (https://github.com/ThorsteinnAdalsteins/EurovisionWebScraper). Κατά δήλωσή του έχουν εκκαθαριστεί τα τυχόν μικρολαθάκια στα δεδομένα και στον κώδικα. </i>\n",
    "<br><br>\n",
    "- <b>Πιθανά προβλήματα/ανασφάλειες/απορίες</b>: <i> Όσα ενδέχεται να προκύψουν κατά την επεξεργασία των δεδομένων για τους σκοπούς του άρθρου.</i>"
   ]
  },
  {
   "cell_type": "markdown",
   "metadata": {},
   "source": [
    "### Ερευνητικά ερωτήματα"
   ]
  },
  {
   "cell_type": "markdown",
   "metadata": {},
   "source": [
    "<i> Υφίστανται γεωπολιτικές συμμαχίες; Πόσα χρόνια παρατηρούνται; Πώς στοιχειοθετούνται και αν είναι ικανές να καθορίσουν το νικητή;</i>"
   ]
  },
  {
   "cell_type": "markdown",
   "metadata": {},
   "source": [
    "### Προέρευνα/δουλειά που έχετε ήδη κάνει στο πλαίσιο του σχεδιασμού του πρότζεκτ"
   ]
  },
  {
   "cell_type": "markdown",
   "metadata": {},
   "source": [
    "<i>Η προέρευνα αναφέρθηκε πιο πάνω στην ενότητα που δώσαμε περαιτέρω πληροφορίες για το θέμα μας. </i>\n",
    "<br><br>\n"
   ]
  },
  {
   "cell_type": "markdown",
   "metadata": {},
   "source": [
    "## Απαντήστε \"YES\" ή \"NO\" στα παρακάτω ερωτήματα\n",
    "<i>(Στο στάδιο της πρότασης θέματος που βρίσκεστε, το αναμενόμενο είναι YES. Όσα περισσότερα NO, τόσο λιγότερο έχετε προετοιμαστεί και, άρα, χρειάζεται να σχεδιάσετε καλύτερα το πρότζεκτ σας.)</i>"
   ]
  },
  {
   "cell_type": "code",
   "execution_count": 1,
   "metadata": {},
   "outputs": [
    {
     "name": "stdout",
     "output_type": "stream",
     "text": [
      "Έχετε ψάξει για πηγές δεδομένων για το θέμα που θέλετε να κάνετε;YES\n"
     ]
    },
    {
     "data": {
      "text/plain": [
       "'YES'"
      ]
     },
     "execution_count": 1,
     "metadata": {},
     "output_type": "execute_result"
    }
   ],
   "source": [
    "input(\"Έχετε ψάξει για πηγές δεδομένων για το θέμα που θέλετε να κάνετε;\")"
   ]
  },
  {
   "cell_type": "code",
   "execution_count": 2,
   "metadata": {},
   "outputs": [
    {
     "name": "stdout",
     "output_type": "stream",
     "text": [
      "Έχετε βρει δεδομένα/πηγές δεδομένων για το θέμα που θέλετε να κάνετε;YES\n"
     ]
    },
    {
     "data": {
      "text/plain": [
       "'YES'"
      ]
     },
     "execution_count": 2,
     "metadata": {},
     "output_type": "execute_result"
    }
   ],
   "source": [
    "input(\"Έχετε βρει δεδομένα/πηγές δεδομένων για το θέμα που θέλετε να κάνετε;\")"
   ]
  },
  {
   "cell_type": "code",
   "execution_count": 3,
   "metadata": {},
   "outputs": [
    {
     "name": "stdout",
     "output_type": "stream",
     "text": [
      "Έχετε περάσει χρόνο εξερευνώντας τα δεδομένα σας; Έχετε καταλάβει τι έχετε, σε ποια μορφή είναι και ενδεχομένως τι σας λείπει;YES\n"
     ]
    },
    {
     "data": {
      "text/plain": [
       "'YES'"
      ]
     },
     "execution_count": 3,
     "metadata": {},
     "output_type": "execute_result"
    }
   ],
   "source": [
    "input(\"Έχετε περάσει χρόνο εξερευνώντας τα δεδομένα σας; Έχετε καταλάβει τι έχετε, σε ποια μορφή είναι και ενδεχομένως τι σας λείπει;\")"
   ]
  },
  {
   "cell_type": "code",
   "execution_count": 4,
   "metadata": {},
   "outputs": [
    {
     "name": "stdout",
     "output_type": "stream",
     "text": [
      "Έχετε διατυπώσει τα ερευνητικά ερωτήματά σας;YES\n"
     ]
    },
    {
     "data": {
      "text/plain": [
       "'YES'"
      ]
     },
     "execution_count": 4,
     "metadata": {},
     "output_type": "execute_result"
    }
   ],
   "source": [
    "input(\"Έχετε διατυπώσει τα ερευνητικά ερωτήματά σας;\")"
   ]
  },
  {
   "cell_type": "code",
   "execution_count": 5,
   "metadata": {},
   "outputs": [
    {
     "name": "stdout",
     "output_type": "stream",
     "text": [
      "Έχετε σκεφτεί πώς θα αναλύσετε τα δεδομένα σας, για να απαντήσετε τα ερευνητικά ερωτήματά σας;YES\n"
     ]
    },
    {
     "data": {
      "text/plain": [
       "'YES'"
      ]
     },
     "execution_count": 5,
     "metadata": {},
     "output_type": "execute_result"
    }
   ],
   "source": [
    "input(\"Έχετε σκεφτεί πώς θα αναλύσετε τα δεδομένα σας, για να απαντήσετε τα ερευνητικά ερωτήματά σας;\")"
   ]
  },
  {
   "cell_type": "code",
   "execution_count": 6,
   "metadata": {},
   "outputs": [
    {
     "name": "stdout",
     "output_type": "stream",
     "text": [
      "Έχετε αρχίσει να σκέφτεστε πώς θα μπορούσατε να οπτικοποιήσετε τις αναλύσεις σας για το τελικό σας story;YES\n"
     ]
    },
    {
     "data": {
      "text/plain": [
       "'YES'"
      ]
     },
     "execution_count": 6,
     "metadata": {},
     "output_type": "execute_result"
    }
   ],
   "source": [
    "input(\"Έχετε αρχίσει να σκέφτεστε πώς θα μπορούσατε να οπτικοποιήσετε τις αναλύσεις σας για το τελικό σας story;\")"
   ]
  },
  {
   "cell_type": "code",
   "execution_count": 7,
   "metadata": {},
   "outputs": [
    {
     "name": "stdout",
     "output_type": "stream",
     "text": [
      "Έχετε καταθέσει το pitch σας (το προτεινόμενο θέμα σας) σε ένα notebook με filename PITCH_ΟΝΟΜΑΤΕΠΩΝΥΜΟ1_ΟΝΟΜΑΤΕΠΩΝΥΜΟ2;YES\n"
     ]
    },
    {
     "data": {
      "text/plain": [
       "'YES'"
      ]
     },
     "execution_count": 7,
     "metadata": {},
     "output_type": "execute_result"
    }
   ],
   "source": [
    "input(\"Έχετε καταθέσει το pitch σας (το προτεινόμενο θέμα σας) σε ένα notebook με filename PITCH_ΟΝΟΜΑΤΕΠΩΝΥΜΟ1_ΟΝΟΜΑΤΕΠΩΝΥΜΟ2;\")"
   ]
  },
  {
   "cell_type": "code",
   "execution_count": null,
   "metadata": {},
   "outputs": [],
   "source": []
  }
 ],
 "metadata": {
  "kernelspec": {
   "display_name": "Python 3 (ipykernel)",
   "language": "python",
   "name": "python3"
  },
  "language_info": {
   "codemirror_mode": {
    "name": "ipython",
    "version": 3
   },
   "file_extension": ".py",
   "mimetype": "text/x-python",
   "name": "python",
   "nbconvert_exporter": "python",
   "pygments_lexer": "ipython3",
   "version": "3.9.6"
  }
 },
 "nbformat": 4,
 "nbformat_minor": 2
}

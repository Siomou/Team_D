{
 "cells": [
  {
   "cell_type": "code",
   "execution_count": null,
   "id": "e9651390-b3aa-4633-bc0c-7cfe228571c3",
   "metadata": {},
   "outputs": [],
   "source": [
    "import requests\n",
    "from bs4 import BeautifulSoup\n",
    "import pandas as pd\n",
    "from selenium import webdriver\n",
    "import numpy as np\n",
    "from selenium.webdriver.chrome.options import Options\n",
    "from selenium.webdriver.common.by import By\n",
    "from selenium.webdriver.support.ui import Select\n",
    "\n",
    "import time\n",
    "\n",
    "pd.set_option('display.max_rows', None)\n",
    "pd.set_option('display.max_columns', None)"
   ]
  },
  {
   "cell_type": "code",
   "execution_count": null,
   "id": "222b881b-cdcb-4c5e-98fe-f41d579774d8",
   "metadata": {},
   "outputs": [],
   "source": [
    "driver = webdriver.Chrome()"
   ]
  },
  {
   "cell_type": "code",
   "execution_count": null,
   "id": "6d158925-015f-471c-bd54-ae0ecb542034",
   "metadata": {},
   "outputs": [],
   "source": [
    "#Δημιουργήσαμε μία λίστα με χρονιές ώστε να φτιάξουμε το link\n",
    "years = [2023, 2022, 2021, 2019, 2018, 2017, 2016, 2015, 2014, 2013, 2012, 2011, 2010, 2009, 2008, 2007, 2006, 2005, 2004, 2003, 2002, 2001, 2000, 1999, 1998, 1997, 1996, 1995, 1994, 1993, 1992, 1991, 1990, 1989, 1988, 1987, 1986, 1985, 1984, 1983, 1982, 1981, 1980, 1979, 1978, 1977, 1976, 1975, 1974, 1973, 1972, 1971, 1970, 1969, 1968, 1967, 1966, 1965, 1964, 1963, 1962, 1961, 1960, 1959, 1958, 1957, 1956]\n",
    "\n",
    "#Δημιουργήσαμε μία κενή λίστα για να βάλουμε τα αποτελέσματα\n",
    "all_results = []\n",
    "#Φτιάξαμε το link με το url και στο τέλος τις χρονιές\n",
    "for year in years:\n",
    "    url = f\"https://eurovisionworld.com/eurovision/{year}\"\n",
    "\n",
    "# #Φτιάξαμε τον driver για να πηγαίνει μόνος του από το selenium\n",
    "    driver.get(url)\n",
    "\n",
    "    time.sleep(5)\n",
    "    jury = driver.find_elements(By.CLASS_NAME,\"button\")[-3]\n",
    "\n",
    "    jury.click()\n",
    "\n",
    "    soup = BeautifulSoup(driver.page_source, 'html.parser')\n",
    "\n",
    "    #Βλέπουμε αν παίρνει αυτό που θέλουμε\n",
    "    scoreboard_tables = soup.select('.scoreboard_table')\n",
    "    if not scoreboard_tables:\n",
    "        print(f\"No scoreboard_table found for {year}. Skipping...\")\n",
    "        driver.quit()\n",
    "        continue\n",
    "\n",
    "    scoreboard_table = scoreboard_tables[0]\n",
    "\n",
    "    print(year)\n",
    "\n",
    "    results = []  #Φτιάξαμε μία λίστα για κάθε χρονιά\n",
    "\n",
    "    body = scoreboard_table.select('tbody')[0]\n",
    "\n",
    "    for table in body:\n",
    "        data_to_from_rows = table.find_all('td')\n",
    "\n",
    "        for one_row in data_to_from_rows:\n",
    "            result = {}\n",
    "\n",
    "            if one_row.has_attr('data-to') and one_row.has_attr('data-from'):\n",
    "                result['data-from'] = one_row['data-from']\n",
    "                result['data-to'] = one_row['data-to']\n",
    "\n",
    "                try:\n",
    "                    result['score'] = int(one_row.get_text())\n",
    "                except ValueError:\n",
    "                    result['score'] = np.nan\n",
    "\n",
    "                results.append(result)\n",
    "\n",
    "                print(f\"The country {one_row['data-to']} received {one_row.get_text()} points from the jury in country {one_row['data-from']}\")\n",
    "\n",
    "    #Βάλαμε τα αποτελέσματα κάθε έτους στη λίστα\n",
    "    all_results.append(results)\n",
    "\n",
    "    #Κλείσαμε τον driver\n",
    "    driver.quit()\n",
    "\n",
    "#Φτιάξαμε ένα df για κάθε χρονιά\n",
    "dfs = [pd.DataFrame(results) for results in all_results]\n",
    "\n",
    "#Τυπώσαμε τα αποτελέσματα\n",
    "for year, df in zip(years, dfs):\n",
    "    print(f\"\\nDataFrame for {year}:\\n{df}\")"
   ]
  },
  {
   "cell_type": "code",
   "execution_count": null,
   "id": "93484fac-d5fc-4b84-8b08-f8de58a3e4ff",
   "metadata": {},
   "outputs": [],
   "source": []
  }
 ],
 "metadata": {
  "kernelspec": {
   "display_name": "Python 3 (ipykernel)",
   "language": "python",
   "name": "python3"
  },
  "language_info": {
   "codemirror_mode": {
    "name": "ipython",
    "version": 3
   },
   "file_extension": ".py",
   "mimetype": "text/x-python",
   "name": "python",
   "nbconvert_exporter": "python",
   "pygments_lexer": "ipython3",
   "version": "3.12.0"
  }
 },
 "nbformat": 4,
 "nbformat_minor": 5
}
